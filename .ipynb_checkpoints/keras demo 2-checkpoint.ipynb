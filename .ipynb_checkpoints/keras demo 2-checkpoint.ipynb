{
 "cells": [
  {
   "cell_type": "code",
   "execution_count": 5,
   "metadata": {
    "collapsed": true
   },
   "outputs": [],
   "source": [
    "import numpy as np\n",
    "from keras.models import Sequential\n",
    "from keras.layers.core import Dense, Dropout, Activation\n",
    "from keras.optimizers import SGD, Adam\n",
    "from keras.datasets import mnist\n",
    "from keras.utils import np_utils"
   ]
  },
  {
   "cell_type": "code",
   "execution_count": 8,
   "metadata": {
    "collapsed": true
   },
   "outputs": [],
   "source": [
    "def load_data():\n",
    "    (x_train, y_train), (x_test, y_test) = mnist.load_data()\n",
    "    number = 10000\n",
    "    x_train = x_train[0:number]\n",
    "    y_train = y_train[0:number]\n",
    "    x_train = x_train.reshape(number, 28*28)\n",
    "    x_test = x_test.reshape(x_test.shape[0], 28*28)\n",
    "    x_train = x_train.astype(\"float32\")\n",
    "    x_test = x_test.astype(\"float32\")\n",
    "    y_train = np_utils.to_categorical(y_train, 10)\n",
    "    y_test = np_utils.to_categorical(y_test, 10)\n",
    "    x_train = x_train / 255\n",
    "    x_test = x_test / 255\n",
    "    return (x_train, y_train), (x_test, y_test)"
   ]
  },
  {
   "cell_type": "code",
   "execution_count": 9,
   "metadata": {
    "collapsed": true
   },
   "outputs": [],
   "source": [
    "(x_train, y_train), (x_test, y_test) = load_data()"
   ]
  },
  {
   "cell_type": "code",
   "execution_count": 19,
   "metadata": {
    "collapsed": false
   },
   "outputs": [
    {
     "name": "stdout",
     "output_type": "stream",
     "text": [
      "Epoch 1/10\n",
      "10000/10000 [==============================] - 1s 69us/step - loss: 0.0924 - acc: 0.1051\n",
      "Epoch 2/10\n",
      "10000/10000 [==============================] - 1s 51us/step - loss: 0.0910 - acc: 0.1127\n",
      "Epoch 3/10\n",
      "10000/10000 [==============================] - 0s 49us/step - loss: 0.0906 - acc: 0.1127\n",
      "Epoch 4/10\n",
      "10000/10000 [==============================] - 1s 51us/step - loss: 0.0904 - acc: 0.1127\n",
      "Epoch 5/10\n",
      "10000/10000 [==============================] - 0s 49us/step - loss: 0.0902 - acc: 0.1127\n",
      "Epoch 6/10\n",
      "10000/10000 [==============================] - 1s 55us/step - loss: 0.0901 - acc: 0.1127\n",
      "Epoch 7/10\n",
      "10000/10000 [==============================] - 1s 54us/step - loss: 0.0900 - acc: 0.1127\n",
      "Epoch 8/10\n",
      "10000/10000 [==============================] - 1s 52us/step - loss: 0.0899 - acc: 0.1127\n",
      "Epoch 9/10\n",
      "10000/10000 [==============================] - 0s 48us/step - loss: 0.0899 - acc: 0.1128\n",
      "Epoch 10/10\n",
      "10000/10000 [==============================] - 1s 53us/step - loss: 0.0899 - acc: 0.1127\n",
      "10000/10000 [==============================] - 0s 43us/step\n",
      "Test Acc:  0.1135\n"
     ]
    }
   ],
   "source": [
    "model = Sequential()\n",
    "model.add(Dense(input_dim=28*28, units=300, activation=\"sigmoid\"))\n",
    "model.add(Dense(units=200, activation=\"sigmoid\"))\n",
    "model.add(Dense(units=100, activation=\"sigmoid\"))\n",
    "model.add(Dense(units=10, activation=\"softmax\"))\n",
    "\n",
    "model.compile(loss=\"mse\", optimizer=SGD(lr=0.1), metrics=[\"accuracy\"])\n",
    "model.fit(x_train, y_train, batch_size=100, epochs=10)\n",
    "score = model.evaluate(x_test, y_test)\n",
    "print(\"Test Acc: \", score[1])"
   ]
  }
 ],
 "metadata": {
  "anaconda-cloud": {},
  "kernelspec": {
   "display_name": "Python [conda root]",
   "language": "python",
   "name": "conda-root-py"
  },
  "language_info": {
   "codemirror_mode": {
    "name": "ipython",
    "version": 3
   },
   "file_extension": ".py",
   "mimetype": "text/x-python",
   "name": "python",
   "nbconvert_exporter": "python",
   "pygments_lexer": "ipython3",
   "version": "3.5.2"
  }
 },
 "nbformat": 4,
 "nbformat_minor": 1
}
