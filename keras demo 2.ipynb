{
 "cells": [
  {
   "cell_type": "code",
   "execution_count": 1,
   "metadata": {
    "collapsed": false
   },
   "outputs": [
    {
     "name": "stderr",
     "output_type": "stream",
     "text": [
      "Using TensorFlow backend.\n"
     ]
    }
   ],
   "source": [
    "import numpy as np\n",
    "from keras.models import Sequential\n",
    "from keras.layers.core import Dense, Dropout, Activation\n",
    "from keras.optimizers import SGD, Adam\n",
    "from keras.datasets import mnist\n",
    "from keras.utils import np_utils"
   ]
  },
  {
   "cell_type": "code",
   "execution_count": 2,
   "metadata": {
    "collapsed": true
   },
   "outputs": [],
   "source": [
    "def load_data():\n",
    "    (x_train, y_train), (x_test, y_test) = mnist.load_data()\n",
    "    number = 10000\n",
    "    x_train = x_train[0:number]\n",
    "    y_train = y_train[0:number]\n",
    "    x_train = x_train.reshape(number, 28*28)\n",
    "    x_test = x_test.reshape(x_test.shape[0], 28*28)\n",
    "    x_train = x_train.astype(\"float32\")\n",
    "    x_test = x_test.astype(\"float32\")\n",
    "    y_train = np_utils.to_categorical(y_train, 10)\n",
    "    y_test = np_utils.to_categorical(y_test, 10)\n",
    "    x_train = x_train / 255\n",
    "    x_test = x_test / 255\n",
    "    return (x_train, y_train), (x_test, y_test)"
   ]
  },
  {
   "cell_type": "code",
   "execution_count": 3,
   "metadata": {
    "collapsed": true
   },
   "outputs": [],
   "source": [
    "(x_train, y_train), (x_test, y_test) = load_data()"
   ]
  },
  {
   "cell_type": "code",
   "execution_count": 4,
   "metadata": {
    "collapsed": false
   },
   "outputs": [
    {
     "name": "stdout",
     "output_type": "stream",
     "text": [
      "Epoch 1/10\n",
      "10000/10000 [==============================] - 1s 89us/step - loss: 0.5647 - acc: 0.8401\n",
      "Epoch 2/10\n",
      "10000/10000 [==============================] - 1s 64us/step - loss: 0.2115 - acc: 0.9354\n",
      "Epoch 3/10\n",
      "10000/10000 [==============================] - 1s 64us/step - loss: 0.1380 - acc: 0.9591\n",
      "Epoch 4/10\n",
      "10000/10000 [==============================] - 1s 62us/step - loss: 0.0907 - acc: 0.9743\n",
      "Epoch 5/10\n",
      "10000/10000 [==============================] - 1s 63us/step - loss: 0.0661 - acc: 0.9803\n",
      "Epoch 6/10\n",
      "10000/10000 [==============================] - 1s 62us/step - loss: 0.0481 - acc: 0.9862\n",
      "Epoch 7/10\n",
      "10000/10000 [==============================] - 1s 60us/step - loss: 0.0363 - acc: 0.9902\n",
      "Epoch 8/10\n",
      "10000/10000 [==============================] - 1s 62us/step - loss: 0.0177 - acc: 0.9959\n",
      "Epoch 9/10\n",
      "10000/10000 [==============================] - 1s 63us/step - loss: 0.0107 - acc: 0.9974\n",
      "Epoch 10/10\n",
      "10000/10000 [==============================] - 1s 62us/step - loss: 0.0080 - acc: 0.9985\n",
      "10000/10000 [==============================] - 0s 37us/step\n",
      "Train Acc:  0.9998\n",
      "10000/10000 [==============================] - 0s 34us/step\n",
      "Test Acc:  0.9584\n"
     ]
    }
   ],
   "source": [
    "model = Sequential()\n",
    "model.add(Dense(input_dim=28*28, units=300, activation=\"relu\"))\n",
    "# model.add(Dropout(0.1))\n",
    "model.add(Dense(units=200, activation=\"relu\"))\n",
    "# model.add(Dropout(0.2))\n",
    "model.add(Dense(units=100, activation=\"relu\"))\n",
    "# model.add(Dropout(0.3))\n",
    "model.add(Dense(units=10, activation=\"softmax\"))\n",
    "\n",
    "model.compile(loss=\"categorical_crossentropy\", optimizer=\"adam\", metrics=[\"accuracy\"])\n",
    "model.fit(x_train, y_train, batch_size=100, epochs=10)\n",
    "\n",
    "score = model.evaluate(x_train, y_train)\n",
    "print(\"Train Acc: \", score[1])\n",
    "\n",
    "score = model.evaluate(x_test, y_test)\n",
    "print(\"Test Acc: \", score[1])"
   ]
  },
  {
   "cell_type": "code",
   "execution_count": null,
   "metadata": {
    "collapsed": true
   },
   "outputs": [],
   "source": []
  }
 ],
 "metadata": {
  "anaconda-cloud": {},
  "kernelspec": {
   "display_name": "Python [conda root]",
   "language": "python",
   "name": "conda-root-py"
  },
  "language_info": {
   "codemirror_mode": {
    "name": "ipython",
    "version": 3
   },
   "file_extension": ".py",
   "mimetype": "text/x-python",
   "name": "python",
   "nbconvert_exporter": "python",
   "pygments_lexer": "ipython3",
   "version": "3.5.2"
  }
 },
 "nbformat": 4,
 "nbformat_minor": 1
}
